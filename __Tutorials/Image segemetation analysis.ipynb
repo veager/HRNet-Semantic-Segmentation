{
 "cells": [
  {
   "cell_type": "code",
   "id": "initial_id",
   "metadata": {
    "collapsed": true,
    "ExecuteTime": {
     "end_time": "2024-10-27T14:39:29.298013Z",
     "start_time": "2024-10-27T14:39:29.190454Z"
    }
   },
   "source": [
    "import skimage\n",
    "import numpy as np\n",
    "\n",
    "path = r'C:\\Users\\Wei Zhou\\Documents\\zhouwei file\\Github-Project\\HRNet-Semantic-Segmentation\\__experiments\\output\\cityscapes\\test_results\\aachen_000000_000019_leftImg8bit.png'\n",
    "img = skimage.io.imread(path)\n",
    "print('\\nImage shape:', img.shape,\n",
    "      '\\nUnique values:', np.unique(img).tolist())"
   ],
   "outputs": [
    {
     "name": "stdout",
     "output_type": "stream",
     "text": [
      "\n",
      "Image shape: (1024, 2048) \n",
      "Unique values: [7, 8, 11, 17, 20, 21, 22, 23, 24, 25, 26, 33]\n"
     ]
    }
   ],
   "execution_count": 6
  }
 ],
 "metadata": {
  "kernelspec": {
   "display_name": "Python 3",
   "language": "python",
   "name": "python3"
  },
  "language_info": {
   "codemirror_mode": {
    "name": "ipython",
    "version": 2
   },
   "file_extension": ".py",
   "mimetype": "text/x-python",
   "name": "python",
   "nbconvert_exporter": "python",
   "pygments_lexer": "ipython2",
   "version": "2.7.6"
  }
 },
 "nbformat": 4,
 "nbformat_minor": 5
}
